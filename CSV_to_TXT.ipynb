{
 "cells": [
  {
   "cell_type": "code",
   "execution_count": 1,
   "metadata": {},
   "outputs": [],
   "source": [
    "from csv import DictReader\n",
    "\n",
    "# данные парсятся из csv-файла и преобразуются в список словарей\n",
    "with open(\"web_clients_correct.csv\", 'r') as csv_file:    \n",
    "    dict_reader = DictReader(csv_file)\n",
    "    clients = list(dict_reader)\n",
    "\n",
    "# формируется текстовое описание по шаблону и данные записываются в txt-файл\n",
    "with open(\"web_clients_correct.txt\", 'w') as txt_file:  \n",
    "    for client in clients:  \n",
    "        txt_file.write(f\"Пользователь {str(client['name'])} {'женского' if client['sex'] == 'female' else 'мужского'} пола, {str(client['age'])} лет совершил{'а' if client['sex'] == 'female' else ''} покупку на {str(client['bill'])} у.е. с {'мобильного' if client['device_type'] == 'mobile' or client['device_type'] == 'tablet' else ''} браузера {str(client['browser'])}. Регион, из которого совершалась покупка: {str(client['region'])}.\\n\")"
   ]
  }
 ],
 "metadata": {
  "kernelspec": {
   "display_name": "Python 3",
   "language": "python",
   "name": "python3"
  },
  "language_info": {
   "codemirror_mode": {
    "name": "ipython",
    "version": 3
   },
   "file_extension": ".py",
   "mimetype": "text/x-python",
   "name": "python",
   "nbconvert_exporter": "python",
   "pygments_lexer": "ipython3",
   "version": "3.13.0"
  }
 },
 "nbformat": 4,
 "nbformat_minor": 2
}
